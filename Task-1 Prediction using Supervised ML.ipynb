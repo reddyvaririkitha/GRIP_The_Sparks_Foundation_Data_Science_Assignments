{
 "cells": [
  {
   "cell_type": "markdown",
   "id": "2213e8c4",
   "metadata": {},
   "source": [
    "# Task-1 Prediction using Supervised ML (Level - Beginner)\n",
    "\n",
    "Given Dataset: https://raw.githubusercontent.com/AdiPersonalWorks/Random/master/student_scores%20-%20student_scores.csv"
   ]
  },
  {
   "cell_type": "code",
   "execution_count": 9,
   "id": "d4eb2422",
   "metadata": {},
   "outputs": [],
   "source": [
    "# Importing all the required modules\n",
    "import numpy as np\n",
    "\n",
    "# For extracting data:\n",
    "import requests\n",
    "import io\n",
    "\n",
    "# For reading and storing data:\n",
    "import pandas as pd\n",
    "\n",
    "# For the linear regression model:\n",
    "from sklearn.model_selection import train_test_split\n",
    "from sklearn.linear_model import LinearRegression\n",
    "\n",
    "# For showing the output\n",
    "import matplotlib.pyplot as plt"
   ]
  },
  {
   "cell_type": "code",
   "execution_count": 10,
   "id": "14b4ac89",
   "metadata": {},
   "outputs": [],
   "source": [
    "# Downloading the csv file from raw GitHub\n",
    "\n",
    "url = \"https://raw.githubusercontent.com/AdiPersonalWorks/Random/master/student_scores%20-%20student_scores.csv\" \n",
    "\n",
    "download = requests.get(url).content"
   ]
  },
  {
   "cell_type": "code",
   "execution_count": 11,
   "id": "2f8f3f7b",
   "metadata": {},
   "outputs": [],
   "source": [
    "# Reading the downloaded content and turning it into a pandas dataframe\n",
    "\n",
    "df = pd.read_csv(io.StringIO(download.decode('utf-8')))"
   ]
  },
  {
   "cell_type": "code",
   "execution_count": 12,
   "id": "8b29a890",
   "metadata": {},
   "outputs": [
    {
     "name": "stdout",
     "output_type": "stream",
     "text": [
      "   Hours  Scores\n",
      "0    2.5      21\n",
      "1    5.1      47\n",
      "2    3.2      27\n",
      "3    8.5      75\n",
      "4    3.5      30\n"
     ]
    }
   ],
   "source": [
    "# Printing out the first 5 rows of the dataframe\n",
    "\n",
    "print (df.head())"
   ]
  },
  {
   "cell_type": "code",
   "execution_count": 13,
   "id": "db08ee9f",
   "metadata": {},
   "outputs": [],
   "source": [
    "# Taking x and y \n",
    "x = df.iloc[:, :-1].values\n",
    "y = df.iloc[:, -1].values"
   ]
  },
  {
   "cell_type": "code",
   "execution_count": 14,
   "id": "d2d7dd05",
   "metadata": {},
   "outputs": [],
   "source": [
    "# spliting test and train datasets\n",
    "\n",
    "train_x, test_x, train_y, test_y = train_test_split(x, y, test_size = 1/3, random_state = 0)"
   ]
  },
  {
   "cell_type": "code",
   "execution_count": 15,
   "id": "0838f101",
   "metadata": {},
   "outputs": [
    {
     "data": {
      "text/plain": [
       "LinearRegression()"
      ]
     },
     "execution_count": 15,
     "metadata": {},
     "output_type": "execute_result"
    }
   ],
   "source": [
    "# Training the datamodel:\n",
    "regressor = LinearRegression()\n",
    "regressor.fit(train_x, train_y)"
   ]
  },
  {
   "cell_type": "code",
   "execution_count": 16,
   "id": "dc25e465",
   "metadata": {},
   "outputs": [],
   "source": [
    "# Predicting the results\n",
    "\n",
    "pred_y = regressor.predict(test_x)"
   ]
  },
  {
   "cell_type": "code",
   "execution_count": 18,
   "id": "3e16736b",
   "metadata": {},
   "outputs": [
    {
     "data": {
      "image/png": "[encoded data removed]",
      "text/plain": [
       "<Figure size 432x288 with 1 Axes>"
      ]
     },
     "metadata": {
      "needs_background": "light"
     },
     "output_type": "display_data"
    }
   ],
   "source": [
    "# Visualising the train dataset\n",
    "\n",
    "plt.scatter(train_x, train_y, color = 'red')\n",
    "plt.plot(train_x, regressor.predict(train_x), color = 'blue')\n",
    "plt.title('Hours vs Score (Training set)')\n",
    "plt.xlabel('Hours of study')\n",
    "plt.ylabel('Obtained Score')\n",
    "plt.show()"
   ]
  },
  {
   "cell_type": "markdown",
   "id": "4cfaa2ad",
   "metadata": {},
   "source": [
    "Blue line shows the predicted values and the scattered red datapoints show the actual values"
   ]
  },
  {
   "cell_type": "code",
   "execution_count": 20,
   "id": "7b1ddaf7",
   "metadata": {},
   "outputs": [
    {
     "data": {
      "image/png": "[encoded data removed]",
      "text/plain": [
       "<Figure size 432x288 with 1 Axes>"
      ]
     },
     "metadata": {
      "needs_background": "light"
     },
     "output_type": "display_data"
    }
   ],
   "source": [
    "# Visualising the test and predicted values\n",
    "\n",
    "plt.scatter(test_x, test_y, color = 'g')\n",
    "plt.plot(test_x, regressor.predict(test_x), color = 'pink')\n",
    "plt.title('Hours vs Score (Testing dataset)')\n",
    "plt.xlabel('Hours of study')\n",
    "plt.ylabel('Obtained Score')\n",
    "plt.show()"
   ]
  },
  {
   "cell_type": "markdown",
   "id": "8e97dd18",
   "metadata": {},
   "source": [
    "The predicted pink line almost matches with the original datapoints of test_y"
   ]
  },
  {
   "cell_type": "markdown",
   "id": "c2a3b911",
   "metadata": {},
   "source": [
    "## Question: What will be the predicted score if a student studies for 9.25 hours/day ?"
   ]
  },
  {
   "cell_type": "code",
   "execution_count": 23,
   "id": "8e78e9ac",
   "metadata": {},
   "outputs": [
    {
     "name": "stdout",
     "output_type": "stream",
     "text": [
      "[92.14523315]\n"
     ]
    }
   ],
   "source": [
    "given_x = [[9.25]]\n",
    "answer = regressor.predict(given_x)\n",
    "print(answer)"
   ]
  },
  {
   "cell_type": "markdown",
   "id": "40eba794",
   "metadata": {},
   "source": [
    "So if the student studies for 9.25 hours/day, then the predicted score is 92.145"
   ]
  },
  {
   "cell_type": "code",
   "execution_count": null,
   "id": "8deceb3a",
   "metadata": {},
   "outputs": [],
   "source": []
  }
 ],
 "metadata": {
  "kernelspec": {
   "display_name": "Python 3 (ipykernel)",
   "language": "python",
   "name": "python3"
  },
  "language_info": {
   "codemirror_mode": {
    "name": "ipython",
    "version": 3
   },
   "file_extension": ".py",
   "mimetype": "text/x-python",
   "name": "python",
   "nbconvert_exporter": "python",
   "pygments_lexer": "ipython3",
   "version": "3.9.7"
  }
 },
 "nbformat": 4,
 "nbformat_minor": 5
}
